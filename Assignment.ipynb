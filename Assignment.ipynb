{
 "cells": [
  {
   "cell_type": "markdown",
   "metadata": {},
   "source": [
    "### Data Framing and plot"
   ]
  },
  {
   "cell_type": "code",
   "execution_count": 6,
   "metadata": {},
   "outputs": [
    {
     "name": "stdout",
     "output_type": "stream",
     "text": [
      "{'sin': [0.0, 0.8414709848078965, 0.9092974268256817, 0.1411200080598672], 'cos': [1.0, 0.5403023058681398, -0.4161468365471424, -0.9899924966004454], 'tan': [0.0, 1.5574077246549023, -2.185039863261519, -0.1425465430742778], 'plo': [1.0, 3.0, 7.0, 13.0], 'trigF1': [1.0, 1.3817732906760363, 0.4931505902785393, -0.8488724885405782], 'trig2': [0.0, 0.9092974268256818, -0.7568024953079283, -0.27941549819892586], 'trig3': [0.0, 2.4255188208147596, 4.774399204041917, 0.020319516942426938]}\n"
     ]
    }
   ],
   "source": [
    "import numpy as np\n",
    "x=np.arange(0,np.pi,1.0)\n",
    "F={\"sin\":[np.sin(x) for x in x],\\\n",
    "   \"cos\":[np.cos(x) for x in x],\\\n",
    "   \"tan\":[np.tan(x) for x in x],\\\n",
    "   \"plo\":[(x*x+x+1) for x in x],\\\n",
    "   \"trigF1\":[np.sin(x)+np.cos(x)for x in x],\\\n",
    "   \"trig2\":[2*np.sin(x)*np.cos(x)for x in x],\\\n",
    "   \"trig3\":[np.sin(x)*np.tan(x)/np.cos(x) for x in x]}\n",
    "print(F)"
   ]
  },
  {
   "cell_type": "code",
   "execution_count": 7,
   "metadata": {},
   "outputs": [
    {
     "data": {
      "text/html": [
       "<div>\n",
       "<style scoped>\n",
       "    .dataframe tbody tr th:only-of-type {\n",
       "        vertical-align: middle;\n",
       "    }\n",
       "\n",
       "    .dataframe tbody tr th {\n",
       "        vertical-align: top;\n",
       "    }\n",
       "\n",
       "    .dataframe thead th {\n",
       "        text-align: right;\n",
       "    }\n",
       "</style>\n",
       "<table border=\"1\" class=\"dataframe\">\n",
       "  <thead>\n",
       "    <tr style=\"text-align: right;\">\n",
       "      <th></th>\n",
       "      <th>sin</th>\n",
       "      <th>cos</th>\n",
       "      <th>tan</th>\n",
       "      <th>plo</th>\n",
       "      <th>trigF1</th>\n",
       "      <th>trig2</th>\n",
       "      <th>trig3</th>\n",
       "    </tr>\n",
       "  </thead>\n",
       "  <tbody>\n",
       "    <tr>\n",
       "      <th>0</th>\n",
       "      <td>0.000000</td>\n",
       "      <td>1.000000</td>\n",
       "      <td>0.000000</td>\n",
       "      <td>1.0</td>\n",
       "      <td>1.000000</td>\n",
       "      <td>0.000000</td>\n",
       "      <td>0.000000</td>\n",
       "    </tr>\n",
       "    <tr>\n",
       "      <th>1</th>\n",
       "      <td>0.841471</td>\n",
       "      <td>0.540302</td>\n",
       "      <td>1.557408</td>\n",
       "      <td>3.0</td>\n",
       "      <td>1.381773</td>\n",
       "      <td>0.909297</td>\n",
       "      <td>2.425519</td>\n",
       "    </tr>\n",
       "    <tr>\n",
       "      <th>2</th>\n",
       "      <td>0.909297</td>\n",
       "      <td>-0.416147</td>\n",
       "      <td>-2.185040</td>\n",
       "      <td>7.0</td>\n",
       "      <td>0.493151</td>\n",
       "      <td>-0.756802</td>\n",
       "      <td>4.774399</td>\n",
       "    </tr>\n",
       "    <tr>\n",
       "      <th>3</th>\n",
       "      <td>0.141120</td>\n",
       "      <td>-0.989992</td>\n",
       "      <td>-0.142547</td>\n",
       "      <td>13.0</td>\n",
       "      <td>-0.848872</td>\n",
       "      <td>-0.279415</td>\n",
       "      <td>0.020320</td>\n",
       "    </tr>\n",
       "  </tbody>\n",
       "</table>\n",
       "</div>"
      ],
      "text/plain": [
       "        sin       cos       tan   plo    trigF1     trig2     trig3\n",
       "0  0.000000  1.000000  0.000000   1.0  1.000000  0.000000  0.000000\n",
       "1  0.841471  0.540302  1.557408   3.0  1.381773  0.909297  2.425519\n",
       "2  0.909297 -0.416147 -2.185040   7.0  0.493151 -0.756802  4.774399\n",
       "3  0.141120 -0.989992 -0.142547  13.0 -0.848872 -0.279415  0.020320"
      ]
     },
     "execution_count": 7,
     "metadata": {},
     "output_type": "execute_result"
    }
   ],
   "source": [
    "import pandas as pd\n",
    "DF=pd.DataFrame(F)\n",
    "DF.head()  #this \"head\" gives first five values only"
   ]
  },
  {
   "cell_type": "code",
   "execution_count": 8,
   "metadata": {},
   "outputs": [
    {
     "data": {
      "text/html": [
       "<div>\n",
       "<style scoped>\n",
       "    .dataframe tbody tr th:only-of-type {\n",
       "        vertical-align: middle;\n",
       "    }\n",
       "\n",
       "    .dataframe tbody tr th {\n",
       "        vertical-align: top;\n",
       "    }\n",
       "\n",
       "    .dataframe thead th {\n",
       "        text-align: right;\n",
       "    }\n",
       "</style>\n",
       "<table border=\"1\" class=\"dataframe\">\n",
       "  <thead>\n",
       "    <tr style=\"text-align: right;\">\n",
       "      <th></th>\n",
       "      <th>sin</th>\n",
       "      <th>cos</th>\n",
       "      <th>tan</th>\n",
       "      <th>plo</th>\n",
       "      <th>trigF1</th>\n",
       "      <th>trig2</th>\n",
       "      <th>trig3</th>\n",
       "    </tr>\n",
       "  </thead>\n",
       "  <tbody>\n",
       "    <tr>\n",
       "      <th>0</th>\n",
       "      <td>0.000000</td>\n",
       "      <td>1.000000</td>\n",
       "      <td>0.000000</td>\n",
       "      <td>1.0</td>\n",
       "      <td>1.000000</td>\n",
       "      <td>0.000000</td>\n",
       "      <td>0.000000</td>\n",
       "    </tr>\n",
       "    <tr>\n",
       "      <th>1</th>\n",
       "      <td>0.841471</td>\n",
       "      <td>0.540302</td>\n",
       "      <td>1.557408</td>\n",
       "      <td>3.0</td>\n",
       "      <td>1.381773</td>\n",
       "      <td>0.909297</td>\n",
       "      <td>2.425519</td>\n",
       "    </tr>\n",
       "    <tr>\n",
       "      <th>2</th>\n",
       "      <td>0.909297</td>\n",
       "      <td>-0.416147</td>\n",
       "      <td>-2.185040</td>\n",
       "      <td>7.0</td>\n",
       "      <td>0.493151</td>\n",
       "      <td>-0.756802</td>\n",
       "      <td>4.774399</td>\n",
       "    </tr>\n",
       "    <tr>\n",
       "      <th>3</th>\n",
       "      <td>0.141120</td>\n",
       "      <td>-0.989992</td>\n",
       "      <td>-0.142547</td>\n",
       "      <td>13.0</td>\n",
       "      <td>-0.848872</td>\n",
       "      <td>-0.279415</td>\n",
       "      <td>0.020320</td>\n",
       "    </tr>\n",
       "  </tbody>\n",
       "</table>\n",
       "</div>"
      ],
      "text/plain": [
       "        sin       cos       tan   plo    trigF1     trig2     trig3\n",
       "0  0.000000  1.000000  0.000000   1.0  1.000000  0.000000  0.000000\n",
       "1  0.841471  0.540302  1.557408   3.0  1.381773  0.909297  2.425519\n",
       "2  0.909297 -0.416147 -2.185040   7.0  0.493151 -0.756802  4.774399\n",
       "3  0.141120 -0.989992 -0.142547  13.0 -0.848872 -0.279415  0.020320"
      ]
     },
     "execution_count": 8,
     "metadata": {},
     "output_type": "execute_result"
    }
   ],
   "source": [
    "DF # this gives all the values"
   ]
  },
  {
   "cell_type": "code",
   "execution_count": 9,
   "metadata": {},
   "outputs": [
    {
     "data": {
      "text/plain": [
       "<matplotlib.axes._subplots.AxesSubplot at 0x1791a66fa08>"
      ]
     },
     "execution_count": 9,
     "metadata": {},
     "output_type": "execute_result"
    },
    {
     "data": {
      "image/png": "[encoded data removed]",
      "text/plain": [
       "<Figure size 432x288 with 1 Axes>"
      ]
     },
     "metadata": {
      "needs_background": "light"
     },
     "output_type": "display_data"
    }
   ],
   "source": [
    "import matplotlib.pyplot\n",
    "%matplotlib inline\n",
    "DF.plot()"
   ]
  },
  {
   "cell_type": "code",
   "execution_count": null,
   "metadata": {},
   "outputs": [],
   "source": []
  }
 ],
 "metadata": {
  "kernelspec": {
   "display_name": "Python 3",
   "language": "python",
   "name": "python3"
  },
  "language_info": {
   "codemirror_mode": {
    "name": "ipython",
    "version": 3
   },
   "file_extension": ".py",
   "mimetype": "text/x-python",
   "name": "python",
   "nbconvert_exporter": "python",
   "pygments_lexer": "ipython3",
   "version": "3.7.6"
  }
 },
 "nbformat": 4,
 "nbformat_minor": 4
}
